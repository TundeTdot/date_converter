{
 "cells": [
  {
   "cell_type": "code",
   "execution_count": 1,
   "id": "10b69c21",
   "metadata": {
    "execution": {
     "iopub.execute_input": "2023-04-25T15:36:52.194437Z",
     "iopub.status.busy": "2023-04-25T15:36:52.193483Z",
     "iopub.status.idle": "2023-04-25T15:36:52.218614Z",
     "shell.execute_reply": "2023-04-25T15:36:52.216872Z"
    },
    "papermill": {
     "duration": 0.033587,
     "end_time": "2023-04-25T15:36:52.221951",
     "exception": false,
     "start_time": "2023-04-25T15:36:52.188364",
     "status": "completed"
    },
    "tags": []
   },
   "outputs": [
    {
     "name": "stdout",
     "output_type": "stream",
     "text": [
      "Tuesday, 25 April 2023\n"
     ]
    }
   ],
   "source": [
    "def day_of_the_week(date):\n",
    "    # Extract year, month, and day values from the input date string\n",
    "    year, month, day = map(int, date.split(\"-\"))\n",
    "\n",
    "    # Adjust month and year values for the algorithm's formula\n",
    "    if month < 3:\n",
    "        month += 12\n",
    "        year -= 1\n",
    "\n",
    "    # Apply Zeller's congruence formula to calculate the day of the week\n",
    "    k = day\n",
    "    m = month\n",
    "    D = year % 100\n",
    "    C = year // 100\n",
    "    f = k + ((13 * (m + 1)) // 5) + D + (D // 4) + (C // 4) - (2 * C)\n",
    "    day_number = (f % 7)\n",
    "\n",
    "    # Create a dictionary for the days of the week\n",
    "    week ={\n",
    "        0: 'Sunday',\n",
    "        1: 'Monday',\n",
    "        2: 'Tuesday',\n",
    "        3: 'Wednesday',\n",
    "        4: 'Thursday',\n",
    "        5: 'Friday',\n",
    "        6: 'Saturday'\n",
    "    }\n",
    "\n",
    "    # Return the day of the week based on the calculated day number\n",
    "    return week.get(day_number, 'Invalid day')\n",
    "\n",
    "def month_of_the_year(date):\n",
    "    # Create a dictionary for the months of the year\n",
    "    months = {\n",
    "        '01':'January', \n",
    "        '02':'February',\n",
    "        '03':'March',\n",
    "        '04':'April',\n",
    "        '05':'May',\n",
    "        '06':'June',\n",
    "        '07':'July',\n",
    "        '08':'August',\n",
    "        '09':'September',\n",
    "        '10':'October',\n",
    "        '11':'November',\n",
    "        '12':'December'\n",
    "    }\n",
    "\n",
    "    # Extract the month number from the input date string\n",
    "    month = date[3:5]\n",
    "\n",
    "    # Return the name of the month based on the given month number\n",
    "    return months.get(str(month), 'Invalid month')\n",
    "\n",
    "def day_of_month(date):\n",
    "    # Extract the day and month values from the input date string\n",
    "    day = date[0:2]\n",
    "    month = date[3:5]\n",
    "\n",
    "    # Check if the given day is within the range of days for the given month\n",
    "    days_in_month = {\n",
    "        \"01\": range(1, 32),\n",
    "        \"02\": range(1, 29),  # or 29 in a leap year\n",
    "        \"03\": range(1, 32),\n",
    "        \"04\": range(1, 31),\n",
    "        \"05\": range(1, 32),\n",
    "        \"06\": range(1, 31),\n",
    "        \"07\": range(1, 32),\n",
    "        \"08\": range(1, 32),\n",
    "        \"09\": range(1, 31),\n",
    "        \"10\": range(1, 32),\n",
    "        \"11\": range(1, 31),\n",
    "        \"12\": range(1, 32)\n",
    "    }\n",
    "    if int(day) not in days_in_month[month]:\n",
    "        return \"Invalid day\"\n",
    "    else:\n",
    "        return day\n",
    "\n",
    "date = \"25-04-2023\"\n",
    "day = day_of_month(date)\n",
    "month = month_of_the_year(date)\n",
    "weekday = day_of_the_week(date)\n",
    "year = date.split(\"-\")[-1]\n",
    "\n",
    "\n",
    "print(f\"{weekday}, {day} {month} {year}\")  \n",
    "\n"
   ]
  },
  {
   "cell_type": "code",
   "execution_count": null,
   "id": "3db00f3e",
   "metadata": {
    "papermill": {
     "duration": 0.001528,
     "end_time": "2023-04-25T15:36:52.225606",
     "exception": false,
     "start_time": "2023-04-25T15:36:52.224078",
     "status": "completed"
    },
    "tags": []
   },
   "outputs": [],
   "source": []
  }
 ],
 "metadata": {
  "kernelspec": {
   "display_name": "Python 3",
   "language": "python",
   "name": "python3"
  },
  "language_info": {
   "codemirror_mode": {
    "name": "ipython",
    "version": 3
   },
   "file_extension": ".py",
   "mimetype": "text/x-python",
   "name": "python",
   "nbconvert_exporter": "python",
   "pygments_lexer": "ipython3",
   "version": "3.7.12"
  },
  "papermill": {
   "default_parameters": {},
   "duration": 11.656008,
   "end_time": "2023-04-25T15:36:52.952387",
   "environment_variables": {},
   "exception": null,
   "input_path": "__notebook__.ipynb",
   "output_path": "__notebook__.ipynb",
   "parameters": {},
   "start_time": "2023-04-25T15:36:41.296379",
   "version": "2.4.0"
  }
 },
 "nbformat": 4,
 "nbformat_minor": 5
}
