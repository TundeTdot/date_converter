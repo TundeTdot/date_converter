{
 "cells": [
  {
   "cell_type": "code",
   "execution_count": 1,
   "id": "640567aa",
   "metadata": {
    "execution": {
     "iopub.execute_input": "2023-04-30T00:22:33.084291Z",
     "iopub.status.busy": "2023-04-30T00:22:33.083457Z",
     "iopub.status.idle": "2023-04-30T00:22:33.099298Z",
     "shell.execute_reply": "2023-04-30T00:22:33.098181Z"
    },
    "papermill": {
     "duration": 0.02331,
     "end_time": "2023-04-30T00:22:33.102084",
     "exception": false,
     "start_time": "2023-04-30T00:22:33.078774",
     "status": "completed"
    },
    "tags": []
   },
   "outputs": [
    {
     "name": "stdout",
     "output_type": "stream",
     "text": [
      "Sunday, 30 April 2023\n"
     ]
    }
   ],
   "source": [
    "import calendar\n",
    "\n",
    "def get_date_parts(date):\n",
    "    # Extract year, month, and day values from the input date string\n",
    "    day, month, year = map(int, date.split(\"-\"))\n",
    "    return year, month, day\n",
    "\n",
    "def format_date(date):\n",
    "    year, month, day = get_date_parts(date)\n",
    "    month_name = calendar.month_name[month]\n",
    "    return f\"{day} {month_name} {year}\"\n",
    "\n",
    "def get_weekday(date):\n",
    "    year, month, day = get_date_parts(date)\n",
    "    weekday_num = calendar.weekday(year, month, day)\n",
    "    weekday_name = calendar.day_name[weekday_num]\n",
    "    return weekday_name\n",
    "\n",
    "date = \"30-04-2023\"\n",
    "weekday = get_weekday(date)\n",
    "formatted_date = format_date(date)\n",
    "print(f\"{weekday}, {formatted_date}\")\n"
   ]
  },
  {
   "cell_type": "code",
   "execution_count": null,
   "id": "3749d76e",
   "metadata": {
    "papermill": {
     "duration": 0.001414,
     "end_time": "2023-04-30T00:22:33.105616",
     "exception": false,
     "start_time": "2023-04-30T00:22:33.104202",
     "status": "completed"
    },
    "tags": []
   },
   "outputs": [],
   "source": []
  },
  {
   "cell_type": "code",
   "execution_count": null,
   "id": "3b8da7d5",
   "metadata": {
    "papermill": {
     "duration": 0.002042,
     "end_time": "2023-04-30T00:22:33.109506",
     "exception": false,
     "start_time": "2023-04-30T00:22:33.107464",
     "status": "completed"
    },
    "tags": []
   },
   "outputs": [],
   "source": []
  }
 ],
 "metadata": {
  "kernelspec": {
   "display_name": "Python 3",
   "language": "python",
   "name": "python3"
  },
  "language_info": {
   "codemirror_mode": {
    "name": "ipython",
    "version": 3
   },
   "file_extension": ".py",
   "mimetype": "text/x-python",
   "name": "python",
   "nbconvert_exporter": "python",
   "pygments_lexer": "ipython3",
   "version": "3.7.12"
  },
  "papermill": {
   "default_parameters": {},
   "duration": 10.541163,
   "end_time": "2023-04-30T00:22:33.734647",
   "environment_variables": {},
   "exception": null,
   "input_path": "__notebook__.ipynb",
   "output_path": "__notebook__.ipynb",
   "parameters": {},
   "start_time": "2023-04-30T00:22:23.193484",
   "version": "2.4.0"
  }
 },
 "nbformat": 4,
 "nbformat_minor": 5
}
